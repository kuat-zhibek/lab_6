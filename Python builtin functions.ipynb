{
 "cells": [
  {
   "cell_type": "markdown",
   "id": "2cf99116-8a11-43a8-b589-c15adb211ab8",
   "metadata": {},
   "source": [
    "Task 1"
   ]
  },
  {
   "cell_type": "code",
   "execution_count": 3,
   "id": "2d7c413f-7f67-4f06-9747-f18052f7d14f",
   "metadata": {},
   "outputs": [
    {
     "name": "stdout",
     "output_type": "stream",
     "text": [
      "120\n"
     ]
    }
   ],
   "source": [
    "import math\n",
    "numbers=[1, 2, 3, 4, 5]\n",
    "res=math.prod(numbers)\n",
    "print(res)"
   ]
  },
  {
   "cell_type": "markdown",
   "id": "52e839c9-efe4-48aa-b420-2f044812a8fd",
   "metadata": {},
   "source": [
    "Task 2"
   ]
  },
  {
   "cell_type": "code",
   "execution_count": 7,
   "id": "180625f2-8371-4509-a6de-7a7fbc7a4a59",
   "metadata": {},
   "outputs": [
    {
     "name": "stdout",
     "output_type": "stream",
     "text": [
      "upper letters: \n",
      "lower letters: \n"
     ]
    }
   ],
   "source": [
    "def letter(s):\n",
    "    upperlet=0\n",
    "    lowerlet=0\n",
    "    for i in s:\n",
    "        if i.isupper():\n",
    "            upperlet+=1\n",
    "        else:\n",
    "            lowerlet+=1\n",
    "    print(\"upper letters: \")\n",
    "    print(\"lower letters: \")\n",
    "letter(\"Hello worlD\")"
   ]
  },
  {
   "cell_type": "markdown",
   "id": "fb0ce4ed-06bf-4877-83b8-022843c4355a",
   "metadata": {},
   "source": [
    "Task 3"
   ]
  },
  {
   "cell_type": "code",
   "execution_count": 13,
   "id": "e811d6bd-4e53-46c3-90a2-e506ae588992",
   "metadata": {},
   "outputs": [
    {
     "name": "stdout",
     "output_type": "stream",
     "text": [
      "False\n"
     ]
    }
   ],
   "source": [
    "def palind(str):\n",
    "    return str==str[::-1]\n",
    "print(palind(\"kazakh\"))"
   ]
  },
  {
   "cell_type": "markdown",
   "id": "ccbd4f73-c122-4fbc-8dbb-ec08a11c7643",
   "metadata": {},
   "source": [
    "Task 4"
   ]
  },
  {
   "cell_type": "markdown",
   "id": "bbc22792-ca85-469c-9d8f-2e2e63478e9a",
   "metadata": {},
   "source": [
    "Task 5"
   ]
  },
  {
   "cell_type": "code",
   "execution_count": 15,
   "id": "8a489107-d390-4545-b11b-d16b5fb7e7b2",
   "metadata": {},
   "outputs": [
    {
     "name": "stdout",
     "output_type": "stream",
     "text": [
      "False\n",
      "True\n"
     ]
    }
   ],
   "source": [
    "values=(True, True, False)\n",
    "val=(True, True, True)\n",
    "print(all(values))\n",
    "print(all(val))"
   ]
  }
 ],
 "metadata": {
  "kernelspec": {
   "display_name": "Python [conda env:base] *",
   "language": "python",
   "name": "conda-base-py"
  },
  "language_info": {
   "codemirror_mode": {
    "name": "ipython",
    "version": 3
   },
   "file_extension": ".py",
   "mimetype": "text/x-python",
   "name": "python",
   "nbconvert_exporter": "python",
   "pygments_lexer": "ipython3",
   "version": "3.12.7"
  }
 },
 "nbformat": 4,
 "nbformat_minor": 5
}
